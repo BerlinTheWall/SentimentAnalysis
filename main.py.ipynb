{
 "cells": [
  {
   "cell_type": "markdown",
   "source": [
    "# Sentiment Analysis"
   ],
   "metadata": {
    "collapsed": false
   }
  },
  {
   "cell_type": "markdown",
   "source": [
    "### Loading imports"
   ],
   "metadata": {
    "collapsed": false
   }
  },
  {
   "cell_type": "code",
   "execution_count": 1,
   "outputs": [],
   "source": [
    "import numpy as np\n",
    "import pandas as pd\n",
    "from nltk.corpus import stopwords\n",
    "import string\n",
    "import re\n",
    "import seaborn as sns\n",
    "import matplotlib.pyplot as plt\n",
    "from tensorflow.keras.preprocessing.text import Tokenizer\n",
    "from tensorflow.keras.preprocessing.sequence import pad_sequences\n",
    "from sklearn.preprocessing import LabelEncoder\n",
    "from sklearn.model_selection import train_test_split\n",
    "from sklearn.feature_extraction.text import TfidfVectorizer\n",
    "from sklearn.linear_model import LogisticRegression\n",
    "from sklearn.metrics import accuracy_score, confusion_matrix , precision_score, recall_score, f1_score\n",
    "from tensorflow.keras.models import Sequential\n",
    "from tensorflow.keras.layers import Embedding, LSTM, SpatialDropout1D, Flatten, Dense, Dropout\n",
    "from tensorflow.keras.callbacks import EarlyStopping\n",
    "from sklearn.feature_extraction.text import CountVectorizer\n",
    "from sklearn.naive_bayes import MultinomialNB\n",
    "from tensorflow.keras.wrappers.scikit_learn import KerasClassifier\n",
    "from sklearn.model_selection import GridSearchCV\n",
    "from sklearn.cluster import KMeans"
   ],
   "metadata": {
    "collapsed": false,
    "ExecuteTime": {
     "start_time": "2023-08-28T18:35:25.291782Z",
     "end_time": "2023-08-28T18:35:28.007179Z"
    }
   }
  },
  {
   "cell_type": "markdown",
   "source": [
    "### Loading Dataset"
   ],
   "metadata": {
    "collapsed": false
   }
  },
  {
   "cell_type": "code",
   "execution_count": 4,
   "outputs": [],
   "source": [
    "# Load the IMDB reviews dataset into a pandas dataFrame\n",
    "review_df = pd.read_csv('IMDB_reviews.csv')"
   ],
   "metadata": {
    "collapsed": false,
    "ExecuteTime": {
     "start_time": "2023-08-28T18:35:38.944161Z",
     "end_time": "2023-08-28T18:35:39.637785Z"
    }
   }
  },
  {
   "cell_type": "markdown",
   "source": [],
   "metadata": {
    "collapsed": false
   }
  },
  {
   "cell_type": "markdown",
   "source": [
    "### Dataset preview"
   ],
   "metadata": {
    "collapsed": false
   }
  },
  {
   "cell_type": "code",
   "execution_count": 5,
   "outputs": [
    {
     "name": "stdout",
     "output_type": "stream",
     "text": [
      "Print the first 2 rows of the dataset:\n",
      "                                              review sentiment\n",
      "0  One of the other reviewers has mentioned that ...  positive\n",
      "1  A wonderful little production. <br /><br />The...  positive\n"
     ]
    }
   ],
   "source": [
    "# Print two rows of dataset\n",
    "print(\"Print the first 2 rows of the dataset:\")\n",
    "print(review_df.head(2))"
   ],
   "metadata": {
    "collapsed": false,
    "ExecuteTime": {
     "start_time": "2023-08-28T18:35:40.280172Z",
     "end_time": "2023-08-28T18:35:40.307114Z"
    }
   }
  },
  {
   "cell_type": "markdown",
   "source": [
    "## Data preprocessing:"
   ],
   "metadata": {
    "collapsed": false
   }
  },
  {
   "cell_type": "markdown",
   "source": [
    "### Cleaning and Standardization"
   ],
   "metadata": {
    "collapsed": false
   }
  },
  {
   "cell_type": "code",
   "execution_count": 6,
   "outputs": [],
   "source": [
    "def preprocess_corpus(corpus, modelType):\n",
    "    \"\"\"Process corpus function.\n",
    "    Input:\n",
    "        corpus: a string containing a review\n",
    "    Output:\n",
    "        corpus_clean: for Logistic Regression model the output is string, for Neural Network model the output is array of strings\n",
    "    \"\"\"\n",
    "\n",
    "    # Remove <br /> tags with spaces\n",
    "    corpus = re.sub(r\"<br\\s*\\/?>\", \" \", corpus)\n",
    "\n",
    "    # Remove non-alphanumeric characters, including single and double quotes\n",
    "    corpus = re.sub(r\"[^a-zA-Z0-9\\s’'\\\"”“]\", \"\", corpus)\n",
    "\n",
    "    # remove hyperlinks\n",
    "    corpus = re.sub(r'https?:\\/\\/.*[\\r\\n]*', '', corpus)\n",
    "\n",
    "    # remove hashtags\n",
    "    corpus = re.sub(r'#', '', corpus)\n",
    "\n",
    "    # Convert text to lowercase\n",
    "    corpus = corpus.lower()\n",
    "\n",
    "    # Remove special characters and punctuation\n",
    "    corpus = re.sub(f\"[{string.punctuation}]\", \"\", corpus)\n",
    "\n",
    "    # Remove words that are purely digits\n",
    "    words = corpus.split()  # Split the text into words\n",
    "    filtered_words = [word for word in words if not word.isdigit()]\n",
    "\n",
    "    # # Remove stopwords\n",
    "    stop_words = set(stopwords.words(\"english\"))\n",
    "\n",
    "    if modelType == 0:\n",
    "        filtered_words = [word for word in filtered_words if word not in stop_words]\n",
    "        preprocessed_text = \" \".join(filtered_words)\n",
    "        return preprocessed_text\n",
    "    elif modelType == 1:\n",
    "        words = [word for word in words if not word.isdigit() and word not in stop_words]\n",
    "        return words"
   ],
   "metadata": {
    "collapsed": false,
    "ExecuteTime": {
     "start_time": "2023-08-28T18:35:42.595923Z",
     "end_time": "2023-08-28T18:35:42.624915Z"
    }
   }
  },
  {
   "cell_type": "markdown",
   "source": [
    "### Label Encoding"
   ],
   "metadata": {
    "collapsed": false
   }
  },
  {
   "cell_type": "code",
   "execution_count": 7,
   "outputs": [],
   "source": [
    "label_encoder = LabelEncoder()\n",
    "y_data = label_encoder.fit_transform(review_df['sentiment'])"
   ],
   "metadata": {
    "collapsed": false,
    "ExecuteTime": {
     "start_time": "2023-08-28T18:35:44.299453Z",
     "end_time": "2023-08-28T18:35:44.317292Z"
    }
   }
  },
  {
   "cell_type": "markdown",
   "source": [
    "#### Save data to a new file"
   ],
   "metadata": {
    "collapsed": false
   }
  },
  {
   "cell_type": "code",
   "execution_count": 48,
   "outputs": [],
   "source": [
    "# # Save the preprocessed DataFrame to a new CSV file\n",
    "# preprocessed_file_path = 'preprocessed_reviews.csv'\n",
    "# review_df.to_csv(preprocessed_file_path, index=False)"
   ],
   "metadata": {
    "collapsed": false,
    "ExecuteTime": {
     "start_time": "2023-08-27T20:53:22.286159Z",
     "end_time": "2023-08-27T20:53:22.302168Z"
    }
   }
  },
  {
   "cell_type": "markdown",
   "source": [
    "### Tokenization and padding"
   ],
   "metadata": {
    "collapsed": false
   }
  },
  {
   "cell_type": "code",
   "execution_count": 8,
   "outputs": [],
   "source": [
    "def tokenize_padding():\n",
    "    tokenizer = Tokenizer(lower=False)\n",
    "    tokenizer.fit_on_texts(x_train)\n",
    "\n",
    "    train_sequences = tokenizer.texts_to_sequences(x_train)\n",
    "    test_sequences = tokenizer.texts_to_sequences(x_test)\n",
    "    max_length = get_max_length()\n",
    "\n",
    "    train_padded_sequences = pad_sequences(train_sequences, maxlen=max_length, padding='post', truncating='post')\n",
    "    test_padded_sequences = pad_sequences(test_sequences, maxlen=max_length, padding='post', truncating='post')\n",
    "\n",
    "    total_words = len(tokenizer.word_index) + 1   # add 1 because of 0 padding\n",
    "    return train_padded_sequences, test_padded_sequences, total_words, max_length"
   ],
   "metadata": {
    "collapsed": false,
    "ExecuteTime": {
     "start_time": "2023-08-28T18:35:46.240745Z",
     "end_time": "2023-08-28T18:35:46.269749Z"
    }
   }
  },
  {
   "cell_type": "code",
   "execution_count": 9,
   "outputs": [],
   "source": [
    "def get_max_length():\n",
    "    review_length = []\n",
    "    for review in x_train:\n",
    "        review_length.append(len(review))\n",
    "\n",
    "    return int(np.ceil(np.mean(review_length)))"
   ],
   "metadata": {
    "collapsed": false,
    "ExecuteTime": {
     "start_time": "2023-08-28T18:35:47.520034Z",
     "end_time": "2023-08-28T18:35:47.541644Z"
    }
   }
  },
  {
   "cell_type": "markdown",
   "source": [
    "# Learning Models"
   ],
   "metadata": {
    "collapsed": false
   }
  },
  {
   "cell_type": "markdown",
   "source": [
    "## Logistic Regression"
   ],
   "metadata": {
    "collapsed": false
   }
  },
  {
   "cell_type": "markdown",
   "source": [
    "### Data Splitting for Model Training"
   ],
   "metadata": {
    "collapsed": false
   }
  },
  {
   "cell_type": "code",
   "execution_count": 10,
   "outputs": [],
   "source": [
    "x_data = review_df['review']\n",
    "x_data = x_data.apply(lambda review: preprocess_corpus(review, 0))\n",
    "\n",
    "x_train, x_test, y_train, y_test = train_test_split(x_data, y_data, test_size = 0.25)"
   ],
   "metadata": {
    "collapsed": false,
    "ExecuteTime": {
     "start_time": "2023-08-28T18:35:49.346914Z",
     "end_time": "2023-08-28T18:36:01.178693Z"
    }
   }
  },
  {
   "cell_type": "markdown",
   "source": [
    "### TF-IDF Vectorization"
   ],
   "metadata": {
    "collapsed": false
   }
  },
  {
   "cell_type": "code",
   "execution_count": 11,
   "outputs": [],
   "source": [
    "# Initialize TfidfVectorization\n",
    "vectorized = TfidfVectorizer(max_features=10000)\n",
    "train_vectors = vectorized.fit_transform(x_train)\n",
    "test_vectors = vectorized.transform(x_test)"
   ],
   "metadata": {
    "collapsed": false,
    "ExecuteTime": {
     "start_time": "2023-08-28T18:36:01.179693Z",
     "end_time": "2023-08-28T18:36:04.713318Z"
    }
   }
  },
  {
   "cell_type": "markdown",
   "source": [
    "### Training Model"
   ],
   "metadata": {
    "collapsed": false
   }
  },
  {
   "cell_type": "code",
   "execution_count": 12,
   "outputs": [],
   "source": [
    "# Initialize and train Logistic Regression model\n",
    "LR_model = LogisticRegression(max_iter=1000)\n",
    "LR_model.fit(train_vectors, y_train)\n",
    "\n",
    "# Predict on the train and test data\n",
    "train_predictions = LR_model.predict(train_vectors)\n",
    "test_predictions = LR_model.predict(test_vectors)"
   ],
   "metadata": {
    "collapsed": false,
    "ExecuteTime": {
     "start_time": "2023-08-28T18:36:04.699701Z",
     "end_time": "2023-08-28T18:36:05.173298Z"
    }
   }
  },
  {
   "cell_type": "markdown",
   "source": [
    "### Evaluation"
   ],
   "metadata": {
    "collapsed": false
   }
  },
  {
   "cell_type": "code",
   "execution_count": 35,
   "outputs": [
    {
     "name": "stdout",
     "output_type": "stream",
     "text": [
      "Train accuracy: 0.50296\n",
      "Test accuracy: 0.50368\n",
      "Confusion Matrix (Test Set):\n",
      " [[3260 2932]\n",
      " [3272 3036]]\n"
     ]
    },
    {
     "data": {
      "text/plain": "<Figure size 1000x600 with 1 Axes>",
      "image/png": "[encoded data removed]"
     },
     "metadata": {},
     "output_type": "display_data"
    },
    {
     "data": {
      "text/plain": "<Figure size 1000x600 with 1 Axes>",
      "image/png": "[encoded data removed]"
     },
     "metadata": {},
     "output_type": "display_data"
    }
   ],
   "source": [
    "# Calculate accuracy\n",
    "LR_train_accuracy = accuracy_score(y_train, train_predictions)\n",
    "print(\"Train accuracy:\", LR_train_accuracy)\n",
    "\n",
    "LR_test_accuracy = accuracy_score(y_test, test_predictions)\n",
    "print(\"Test accuracy:\", LR_test_accuracy)\n",
    "\n",
    "# Calculate confusion\n",
    "test_confusion_matrix = confusion_matrix(y_test, test_predictions)\n",
    "print(\"Confusion Matrix (Test Set):\\n\", test_confusion_matrix)\n",
    "\n",
    "# Get feature names and coefficients\n",
    "feature_names = vectorized.get_feature_names_out()\n",
    "coefficients = LR_model.coef_[0]\n",
    "\n",
    "# Sort coefficients by magnitude\n",
    "sorted_indices = np.argsort(coefficients)\n",
    "sorted_feature_names = [feature_names[idx] for idx in sorted_indices]\n",
    "sorted_coefficients = coefficients[sorted_indices]\n",
    "\n",
    "# Positive words\n",
    "plt.figure(figsize=(10, 6))\n",
    "plt.barh(sorted_feature_names[-20:], sorted_coefficients[-20:])\n",
    "plt.xlabel('Coefficient Value')\n",
    "plt.ylabel('Feature')\n",
    "plt.title('Top 20 Positive of Logistic Regression Model')\n",
    "plt.tight_layout()\n",
    "plt.show()\n",
    "\n",
    "# Negative words\n",
    "plt.figure(figsize=(10, 6))\n",
    "plt.barh(sorted_feature_names[:20], sorted_coefficients[:20])\n",
    "plt.xlabel('Coefficient Value')\n",
    "plt.ylabel('Feature')\n",
    "plt.title('Top 20 Negative words of Logistic Regression Model')\n",
    "plt.tight_layout()\n",
    "plt.show()"
   ],
   "metadata": {
    "collapsed": false,
    "ExecuteTime": {
     "start_time": "2023-08-28T20:19:13.485882Z",
     "end_time": "2023-08-28T20:19:14.048430Z"
    }
   }
  },
  {
   "cell_type": "markdown",
   "source": [
    "## LSTM Neural Network"
   ],
   "metadata": {
    "collapsed": false
   }
  },
  {
   "cell_type": "markdown",
   "source": [
    "### Get tokenized and padded data"
   ],
   "metadata": {
    "collapsed": false
   }
  },
  {
   "cell_type": "code",
   "execution_count": 22,
   "outputs": [],
   "source": [
    "x_data = review_df['review']\n",
    "x_data = x_data.apply(lambda review: preprocess_corpus(review, 1))\n",
    "\n",
    "x_train, x_test, y_train, y_test = train_test_split(x_data, y_data, test_size = 0.25)\n",
    "\n",
    "train_padded_sequences, test_padded_sequences, total_words, max_length = tokenize_padding()"
   ],
   "metadata": {
    "collapsed": false,
    "ExecuteTime": {
     "start_time": "2023-08-28T19:43:35.680578Z",
     "end_time": "2023-08-28T19:43:51.898468Z"
    }
   }
  },
  {
   "cell_type": "markdown",
   "source": [
    "### Training model"
   ],
   "metadata": {
    "collapsed": false
   }
  },
  {
   "cell_type": "code",
   "execution_count": 23,
   "outputs": [],
   "source": [
    "def create_LSTM_model(embed_dim, lstm_units, dense_units, dropout_rate):\n",
    "    model = Sequential()\n",
    "    model.add(Embedding(total_words, embed_dim, input_length=max_length))\n",
    "    model.add(SpatialDropout1D(0.2))\n",
    "    model.add(LSTM(lstm_units))\n",
    "    model.add(Flatten())\n",
    "    model.add(Dense(dense_units, activation='relu'))\n",
    "    model.add(Dropout(dropout_rate))\n",
    "    model.add(Dense(1, activation='sigmoid'))\n",
    "    model.compile(optimizer='adam', loss='binary_crossentropy', metrics=['accuracy'])\n",
    "\n",
    "    # early_stopping = EarlyStopping(patience=3, monitor='val_loss', restore_best_weights=True)\n",
    "    return model"
   ],
   "metadata": {
    "collapsed": false,
    "ExecuteTime": {
     "start_time": "2023-08-28T19:43:51.900472Z",
     "end_time": "2023-08-28T19:43:51.914833Z"
    }
   }
  },
  {
   "cell_type": "markdown",
   "source": [
    "### Grid Search"
   ],
   "metadata": {
    "collapsed": false
   }
  },
  {
   "cell_type": "code",
   "execution_count": 58,
   "outputs": [
    {
     "name": "stderr",
     "output_type": "stream",
     "text": [
      "C:\\Users\\Hooman\\AppData\\Local\\Temp\\ipykernel_21464\\2262279617.py:1: DeprecationWarning: KerasClassifier is deprecated, use Sci-Keras (https://github.com/adriangb/scikeras) instead. See https://www.adriangb.com/scikeras/stable/migration.html for help migrating.\n",
      "  LSTM_NN_model = KerasClassifier(build_fn=create_LSTM_model, epochs=5, batch_size=128)\n"
     ]
    },
    {
     "name": "stdout",
     "output_type": "stream",
     "text": [
      "Fitting 3 folds for each of 16 candidates, totalling 48 fits\n",
      "Epoch 1/5\n",
      "196/196 [==============================] - 21s 93ms/step - loss: 0.6363 - accuracy: 0.5923\n",
      "Epoch 2/5\n",
      "196/196 [==============================] - 18s 93ms/step - loss: 0.2862 - accuracy: 0.8887\n",
      "Epoch 3/5\n",
      "196/196 [==============================] - 18s 89ms/step - loss: 0.1289 - accuracy: 0.9584\n",
      "Epoch 4/5\n",
      "196/196 [==============================] - 18s 91ms/step - loss: 0.0654 - accuracy: 0.9808\n",
      "Epoch 5/5\n",
      "196/196 [==============================] - 17s 89ms/step - loss: 0.0364 - accuracy: 0.9897\n",
      "98/98 [==============================] - 3s 27ms/step - loss: 0.7318 - accuracy: 0.8590\n",
      "[CV 1/3] END dense_units=64, dropout_rate=0.2, embed_dim=32, lstm_units=64;, score=0.859 total time= 1.6min\n",
      "Epoch 1/5\n",
      "196/196 [==============================] - 20s 91ms/step - loss: 0.5856 - accuracy: 0.6374\n",
      "Epoch 2/5\n",
      "196/196 [==============================] - 18s 90ms/step - loss: 0.2491 - accuracy: 0.9062\n",
      "Epoch 3/5\n",
      "196/196 [==============================] - 18s 90ms/step - loss: 0.1108 - accuracy: 0.9646\n",
      "Epoch 4/5\n",
      "196/196 [==============================] - 18s 92ms/step - loss: 0.0525 - accuracy: 0.9846\n",
      "Epoch 5/5\n",
      "196/196 [==============================] - 18s 90ms/step - loss: 0.0310 - accuracy: 0.9922\n",
      "98/98 [==============================] - 3s 27ms/step - loss: 0.6437 - accuracy: 0.8550\n",
      "[CV 2/3] END dense_units=64, dropout_rate=0.2, embed_dim=32, lstm_units=64;, score=0.855 total time= 1.6min\n",
      "Epoch 1/5\n",
      "196/196 [==============================] - 19s 89ms/step - loss: 0.6595 - accuracy: 0.5752\n",
      "Epoch 2/5\n",
      "196/196 [==============================] - 18s 90ms/step - loss: 0.4296 - accuracy: 0.8345\n",
      "Epoch 3/5\n",
      "196/196 [==============================] - 18s 93ms/step - loss: 0.2279 - accuracy: 0.9157\n",
      "Epoch 4/5\n",
      "196/196 [==============================] - 32s 166ms/step - loss: 0.1068 - accuracy: 0.9668\n",
      "Epoch 5/5\n",
      "196/196 [==============================] - 23s 119ms/step - loss: 0.0503 - accuracy: 0.9862\n",
      "98/98 [==============================] - 3s 28ms/step - loss: 0.5680 - accuracy: 0.8594\n",
      "[CV 3/3] END dense_units=64, dropout_rate=0.2, embed_dim=32, lstm_units=64;, score=0.859 total time= 1.9min\n",
      "Epoch 1/5\n",
      "196/196 [==============================] - 27s 126ms/step - loss: 0.5861 - accuracy: 0.6525\n",
      "Epoch 2/5\n",
      "196/196 [==============================] - 23s 119ms/step - loss: 0.2585 - accuracy: 0.9030\n",
      "Epoch 3/5\n",
      "196/196 [==============================] - 26s 135ms/step - loss: 0.1159 - accuracy: 0.9633\n",
      "Epoch 4/5\n",
      "196/196 [==============================] - 26s 135ms/step - loss: 0.0539 - accuracy: 0.9836\n",
      "Epoch 5/5\n",
      "196/196 [==============================] - 24s 123ms/step - loss: 0.0412 - accuracy: 0.9885\n",
      "98/98 [==============================] - 4s 39ms/step - loss: 0.5975 - accuracy: 0.8542\n",
      "[CV 1/3] END dense_units=64, dropout_rate=0.2, embed_dim=32, lstm_units=128;, score=0.854 total time= 2.2min\n",
      "Epoch 1/5\n",
      "196/196 [==============================] - 25s 118ms/step - loss: 0.6933 - accuracy: 0.5122\n",
      "Epoch 2/5\n",
      "196/196 [==============================] - 25s 127ms/step - loss: 0.6307 - accuracy: 0.6211\n",
      "Epoch 3/5\n",
      "196/196 [==============================] - 22s 112ms/step - loss: 0.2778 - accuracy: 0.8973\n",
      "Epoch 4/5\n",
      "196/196 [==============================] - 22s 111ms/step - loss: 0.1346 - accuracy: 0.9573\n",
      "Epoch 5/5\n",
      "196/196 [==============================] - 22s 112ms/step - loss: 0.0671 - accuracy: 0.9816\n",
      "98/98 [==============================] - 6s 49ms/step - loss: 0.3711 - accuracy: 0.8613\n",
      "[CV 2/3] END dense_units=64, dropout_rate=0.2, embed_dim=32, lstm_units=128;, score=0.861 total time= 2.0min\n",
      "Epoch 1/5\n",
      "196/196 [==============================] - 24s 114ms/step - loss: 0.6356 - accuracy: 0.5943\n",
      "Epoch 2/5\n",
      "196/196 [==============================] - 23s 119ms/step - loss: 0.3004 - accuracy: 0.8877\n",
      "Epoch 3/5\n",
      "196/196 [==============================] - 22s 112ms/step - loss: 0.1626 - accuracy: 0.9506\n",
      "Epoch 4/5\n",
      "196/196 [==============================] - 22s 113ms/step - loss: 0.0800 - accuracy: 0.9773\n",
      "Epoch 5/5\n",
      "196/196 [==============================] - 22s 113ms/step - loss: 0.0418 - accuracy: 0.9895\n",
      "98/98 [==============================] - 4s 36ms/step - loss: 0.6891 - accuracy: 0.8570\n",
      "[CV 3/3] END dense_units=64, dropout_rate=0.2, embed_dim=32, lstm_units=128;, score=0.857 total time= 2.0min\n",
      "Epoch 1/5\n",
      "196/196 [==============================] - 26s 123ms/step - loss: 0.6537 - accuracy: 0.5922\n",
      "Epoch 2/5\n",
      "196/196 [==============================] - 25s 126ms/step - loss: 0.3261 - accuracy: 0.8714\n",
      "Epoch 3/5\n",
      "196/196 [==============================] - 26s 134ms/step - loss: 0.1447 - accuracy: 0.9525\n",
      "Epoch 4/5\n",
      "196/196 [==============================] - 24s 120ms/step - loss: 0.0642 - accuracy: 0.9818\n",
      "Epoch 5/5\n",
      "196/196 [==============================] - 24s 121ms/step - loss: 0.0309 - accuracy: 0.9923\n",
      "98/98 [==============================] - 4s 27ms/step - loss: 0.5498 - accuracy: 0.8594\n",
      "[CV 1/3] END dense_units=64, dropout_rate=0.2, embed_dim=64, lstm_units=64;, score=0.859 total time= 2.1min\n",
      "Epoch 1/5\n",
      "196/196 [==============================] - 30s 143ms/step - loss: 0.6511 - accuracy: 0.6156\n",
      "Epoch 2/5\n",
      "196/196 [==============================] - 27s 135ms/step - loss: 0.4050 - accuracy: 0.8378\n",
      "Epoch 3/5\n",
      "196/196 [==============================] - 27s 135ms/step - loss: 0.1732 - accuracy: 0.9400\n",
      "Epoch 4/5\n",
      "196/196 [==============================] - 25s 126ms/step - loss: 0.0708 - accuracy: 0.9797\n",
      "Epoch 5/5\n",
      "196/196 [==============================] - 27s 138ms/step - loss: 0.0342 - accuracy: 0.9922\n",
      "98/98 [==============================] - 4s 32ms/step - loss: 0.5152 - accuracy: 0.8605\n",
      "[CV 2/3] END dense_units=64, dropout_rate=0.2, embed_dim=64, lstm_units=64;, score=0.860 total time= 2.3min\n",
      "Epoch 1/5\n",
      "196/196 [==============================] - 26s 125ms/step - loss: 0.5667 - accuracy: 0.6764\n",
      "Epoch 2/5\n",
      "196/196 [==============================] - 24s 122ms/step - loss: 0.2639 - accuracy: 0.9034\n",
      "Epoch 3/5\n",
      "196/196 [==============================] - 24s 122ms/step - loss: 0.1175 - accuracy: 0.9641\n",
      "Epoch 4/5\n",
      "196/196 [==============================] - 24s 122ms/step - loss: 0.0572 - accuracy: 0.9843\n",
      "Epoch 5/5\n",
      "196/196 [==============================] - 24s 122ms/step - loss: 0.0357 - accuracy: 0.9905\n",
      "98/98 [==============================] - 4s 26ms/step - loss: 0.5653 - accuracy: 0.8580\n",
      "[CV 3/3] END dense_units=64, dropout_rate=0.2, embed_dim=64, lstm_units=64;, score=0.858 total time= 2.1min\n",
      "Epoch 1/5\n",
      "196/196 [==============================] - 32s 153ms/step - loss: 0.5661 - accuracy: 0.6676\n",
      "Epoch 2/5\n",
      "196/196 [==============================] - 31s 157ms/step - loss: 0.2445 - accuracy: 0.9107\n",
      "Epoch 3/5\n",
      "196/196 [==============================] - 32s 163ms/step - loss: 0.1080 - accuracy: 0.9672\n",
      "Epoch 4/5\n",
      "196/196 [==============================] - 33s 166ms/step - loss: 0.0575 - accuracy: 0.9838\n",
      "Epoch 5/5\n",
      "196/196 [==============================] - 33s 167ms/step - loss: 0.1378 - accuracy: 0.9683\n",
      "98/98 [==============================] - 9s 88ms/step - loss: 0.5412 - accuracy: 0.8438\n",
      "[CV 1/3] END dense_units=64, dropout_rate=0.2, embed_dim=64, lstm_units=128;, score=0.844 total time= 2.8min\n",
      "Epoch 1/5\n",
      "196/196 [==============================] - 40s 187ms/step - loss: 0.6472 - accuracy: 0.6155\n",
      "Epoch 2/5\n",
      "196/196 [==============================] - 32s 162ms/step - loss: 0.6090 - accuracy: 0.6825\n",
      "Epoch 3/5\n",
      "196/196 [==============================] - 33s 169ms/step - loss: 0.6137 - accuracy: 0.6564\n",
      "Epoch 4/5\n",
      "196/196 [==============================] - 36s 181ms/step - loss: 0.5736 - accuracy: 0.7061\n",
      "Epoch 5/5\n",
      "196/196 [==============================] - 30s 152ms/step - loss: 0.6228 - accuracy: 0.6636\n",
      "98/98 [==============================] - 4s 35ms/step - loss: 0.6445 - accuracy: 0.6126\n",
      "[CV 2/3] END dense_units=64, dropout_rate=0.2, embed_dim=64, lstm_units=128;, score=0.613 total time= 2.9min\n",
      "Epoch 1/5\n",
      "196/196 [==============================] - 31s 149ms/step - loss: 0.5911 - accuracy: 0.6509\n",
      "Epoch 2/5\n",
      "196/196 [==============================] - 29s 148ms/step - loss: 0.2660 - accuracy: 0.9019\n",
      "Epoch 3/5\n",
      "196/196 [==============================] - 29s 150ms/step - loss: 0.1202 - accuracy: 0.9624\n",
      "Epoch 4/5\n",
      "196/196 [==============================] - 29s 148ms/step - loss: 0.0591 - accuracy: 0.9837\n",
      "Epoch 5/5\n",
      "196/196 [==============================] - 29s 147ms/step - loss: 0.0357 - accuracy: 0.9906\n",
      "98/98 [==============================] - 4s 34ms/step - loss: 0.6246 - accuracy: 0.8543\n",
      "[CV 3/3] END dense_units=64, dropout_rate=0.2, embed_dim=64, lstm_units=128;, score=0.854 total time= 2.5min\n",
      "Epoch 1/5\n",
      "196/196 [==============================] - 18s 82ms/step - loss: 0.6666 - accuracy: 0.5558\n",
      "Epoch 2/5\n",
      "196/196 [==============================] - 16s 82ms/step - loss: 0.3116 - accuracy: 0.8796\n",
      "Epoch 3/5\n",
      "196/196 [==============================] - 16s 83ms/step - loss: 0.1392 - accuracy: 0.9546\n",
      "Epoch 4/5\n",
      "196/196 [==============================] - 16s 83ms/step - loss: 0.0668 - accuracy: 0.9819\n",
      "Epoch 5/5\n",
      "196/196 [==============================] - 16s 83ms/step - loss: 0.0386 - accuracy: 0.9906\n",
      "98/98 [==============================] - 3s 22ms/step - loss: 0.6113 - accuracy: 0.8615\n",
      "[CV 1/3] END dense_units=64, dropout_rate=0.5, embed_dim=32, lstm_units=64;, score=0.862 total time= 1.4min\n",
      "Epoch 1/5\n",
      "196/196 [==============================] - 19s 89ms/step - loss: 0.6566 - accuracy: 0.5676\n",
      "Epoch 2/5\n",
      "196/196 [==============================] - 18s 90ms/step - loss: 0.3089 - accuracy: 0.8804\n",
      "Epoch 3/5\n",
      "196/196 [==============================] - 18s 91ms/step - loss: 0.1379 - accuracy: 0.9558\n",
      "Epoch 4/5\n",
      "196/196 [==============================] - 19s 96ms/step - loss: 0.0627 - accuracy: 0.9824\n",
      "Epoch 5/5\n",
      "196/196 [==============================] - 19s 98ms/step - loss: 0.0382 - accuracy: 0.9900\n",
      "98/98 [==============================] - 4s 37ms/step - loss: 0.4849 - accuracy: 0.8610\n",
      "[CV 2/3] END dense_units=64, dropout_rate=0.5, embed_dim=32, lstm_units=64;, score=0.861 total time= 1.6min\n",
      "Epoch 1/5\n",
      "196/196 [==============================] - 21s 95ms/step - loss: 0.5662 - accuracy: 0.6658\n",
      "Epoch 2/5\n",
      "196/196 [==============================] - 21s 108ms/step - loss: 0.2506 - accuracy: 0.9082\n",
      "Epoch 3/5\n",
      "196/196 [==============================] - 20s 103ms/step - loss: 0.1177 - accuracy: 0.9641\n",
      "Epoch 4/5\n",
      "196/196 [==============================] - 20s 101ms/step - loss: 0.0631 - accuracy: 0.9831\n",
      "Epoch 5/5\n",
      "196/196 [==============================] - 18s 93ms/step - loss: 0.0359 - accuracy: 0.9905\n",
      "98/98 [==============================] - 3s 30ms/step - loss: 0.7129 - accuracy: 0.8588\n",
      "[CV 3/3] END dense_units=64, dropout_rate=0.5, embed_dim=32, lstm_units=64;, score=0.859 total time= 1.7min\n",
      "Epoch 1/5\n",
      "196/196 [==============================] - 28s 132ms/step - loss: 0.5880 - accuracy: 0.6411\n",
      "Epoch 2/5\n",
      "196/196 [==============================] - 27s 138ms/step - loss: 0.2792 - accuracy: 0.8986\n",
      "Epoch 3/5\n",
      "196/196 [==============================] - 24s 124ms/step - loss: 0.1296 - accuracy: 0.9597\n",
      "Epoch 4/5\n",
      "196/196 [==============================] - 25s 127ms/step - loss: 0.0684 - accuracy: 0.9807\n",
      "Epoch 5/5\n",
      "196/196 [==============================] - 22s 114ms/step - loss: 0.0428 - accuracy: 0.9888\n",
      "98/98 [==============================] - 4s 37ms/step - loss: 0.6672 - accuracy: 0.8573\n",
      "[CV 1/3] END dense_units=64, dropout_rate=0.5, embed_dim=32, lstm_units=128;, score=0.857 total time= 2.2min\n",
      "Epoch 1/5\n",
      "196/196 [==============================] - 25s 117ms/step - loss: 0.6110 - accuracy: 0.6200\n",
      "Epoch 2/5\n",
      "196/196 [==============================] - 24s 122ms/step - loss: 0.2744 - accuracy: 0.8984\n",
      "Epoch 3/5\n",
      "196/196 [==============================] - 25s 128ms/step - loss: 0.1205 - accuracy: 0.9632\n",
      "Epoch 4/5\n",
      "196/196 [==============================] - 22s 113ms/step - loss: 0.0608 - accuracy: 0.9836\n",
      "Epoch 5/5\n",
      "196/196 [==============================] - 22s 113ms/step - loss: 0.0386 - accuracy: 0.9896\n",
      "98/98 [==============================] - 5s 37ms/step - loss: 0.5443 - accuracy: 0.8565\n",
      "[CV 2/3] END dense_units=64, dropout_rate=0.5, embed_dim=32, lstm_units=128;, score=0.856 total time= 2.1min\n",
      "Epoch 1/5\n",
      "196/196 [==============================] - 24s 113ms/step - loss: 0.6901 - accuracy: 0.5237\n",
      "Epoch 2/5\n",
      "196/196 [==============================] - 24s 125ms/step - loss: 0.3527 - accuracy: 0.8580\n",
      "Epoch 3/5\n",
      "196/196 [==============================] - 22s 114ms/step - loss: 0.1598 - accuracy: 0.9497\n",
      "Epoch 4/5\n",
      "196/196 [==============================] - 22s 114ms/step - loss: 0.0750 - accuracy: 0.9785\n",
      "Epoch 5/5\n",
      "196/196 [==============================] - 24s 125ms/step - loss: 0.0452 - accuracy: 0.9883\n",
      "98/98 [==============================] - 5s 40ms/step - loss: 0.4895 - accuracy: 0.8631\n",
      "[CV 3/3] END dense_units=64, dropout_rate=0.5, embed_dim=32, lstm_units=128;, score=0.863 total time= 2.0min\n",
      "Epoch 1/5\n",
      "196/196 [==============================] - 30s 142ms/step - loss: 0.6934 - accuracy: 0.5211\n",
      "Epoch 2/5\n",
      "196/196 [==============================] - 28s 144ms/step - loss: 0.6719 - accuracy: 0.5532\n",
      "Epoch 3/5\n",
      "196/196 [==============================] - 26s 135ms/step - loss: 0.3776 - accuracy: 0.8548\n",
      "Epoch 4/5\n",
      "196/196 [==============================] - 29s 147ms/step - loss: 0.1741 - accuracy: 0.9426\n",
      "Epoch 5/5\n",
      "196/196 [==============================] - 26s 134ms/step - loss: 0.0857 - accuracy: 0.9770\n",
      "98/98 [==============================] - 3s 28ms/step - loss: 0.4233 - accuracy: 0.8651\n",
      "[CV 1/3] END dense_units=64, dropout_rate=0.5, embed_dim=64, lstm_units=64;, score=0.865 total time= 2.4min\n",
      "Epoch 1/5\n",
      "196/196 [==============================] - 30s 143ms/step - loss: 0.5537 - accuracy: 0.6742\n",
      "Epoch 2/5\n",
      "196/196 [==============================] - 28s 142ms/step - loss: 0.2309 - accuracy: 0.9159\n",
      "Epoch 3/5\n",
      "196/196 [==============================] - 25s 129ms/step - loss: 0.1026 - accuracy: 0.9674\n",
      "Epoch 4/5\n",
      "196/196 [==============================] - 25s 129ms/step - loss: 0.0533 - accuracy: 0.9852\n",
      "Epoch 5/5\n",
      "196/196 [==============================] - 25s 130ms/step - loss: 0.0332 - accuracy: 0.9914\n",
      "98/98 [==============================] - 3s 28ms/step - loss: 0.5713 - accuracy: 0.8446\n",
      "[CV 2/3] END dense_units=64, dropout_rate=0.5, embed_dim=64, lstm_units=64;, score=0.845 total time= 2.3min\n",
      "Epoch 1/5\n",
      "196/196 [==============================] - 27s 130ms/step - loss: 0.6641 - accuracy: 0.5626\n",
      "Epoch 2/5\n",
      "196/196 [==============================] - 28s 143ms/step - loss: 0.3167 - accuracy: 0.8771\n",
      "Epoch 3/5\n",
      "196/196 [==============================] - 25s 127ms/step - loss: 0.1425 - accuracy: 0.9550\n",
      "Epoch 4/5\n",
      "196/196 [==============================] - 25s 127ms/step - loss: 0.0712 - accuracy: 0.9804\n",
      "Epoch 5/5\n",
      "196/196 [==============================] - 26s 132ms/step - loss: 0.0419 - accuracy: 0.9896\n",
      "98/98 [==============================] - 4s 28ms/step - loss: 0.5074 - accuracy: 0.8598\n",
      "[CV 3/3] END dense_units=64, dropout_rate=0.5, embed_dim=64, lstm_units=64;, score=0.860 total time= 2.3min\n",
      "Epoch 1/5\n",
      "196/196 [==============================] - 34s 165ms/step - loss: 0.6880 - accuracy: 0.5391\n",
      "Epoch 2/5\n",
      "196/196 [==============================] - 33s 167ms/step - loss: 0.3985 - accuracy: 0.8469\n",
      "Epoch 3/5\n",
      "196/196 [==============================] - 33s 167ms/step - loss: 0.1710 - accuracy: 0.9449\n",
      "Epoch 4/5\n",
      "196/196 [==============================] - 34s 173ms/step - loss: 0.0783 - accuracy: 0.9778\n",
      "Epoch 5/5\n",
      "196/196 [==============================] - 34s 175ms/step - loss: 0.0453 - accuracy: 0.9877\n",
      "98/98 [==============================] - 5s 45ms/step - loss: 0.4590 - accuracy: 0.8602\n",
      "[CV 1/3] END dense_units=64, dropout_rate=0.5, embed_dim=64, lstm_units=128;, score=0.860 total time= 2.9min\n",
      "Epoch 1/5\n",
      "196/196 [==============================] - 33s 161ms/step - loss: 0.6842 - accuracy: 0.5371\n",
      "Epoch 2/5\n",
      "196/196 [==============================] - 32s 161ms/step - loss: 0.3544 - accuracy: 0.8640\n",
      "Epoch 3/5\n",
      "196/196 [==============================] - 32s 165ms/step - loss: 0.1558 - accuracy: 0.9503\n",
      "Epoch 4/5\n",
      "196/196 [==============================] - 32s 163ms/step - loss: 0.0825 - accuracy: 0.9780\n",
      "Epoch 5/5\n",
      "196/196 [==============================] - 31s 159ms/step - loss: 0.0483 - accuracy: 0.9884\n",
      "98/98 [==============================] - 4s 38ms/step - loss: 0.5489 - accuracy: 0.8543\n",
      "[CV 2/3] END dense_units=64, dropout_rate=0.5, embed_dim=64, lstm_units=128;, score=0.854 total time= 2.8min\n",
      "Epoch 1/5\n",
      "196/196 [==============================] - 32s 153ms/step - loss: 0.6075 - accuracy: 0.6233\n",
      "Epoch 2/5\n",
      "196/196 [==============================] - 32s 164ms/step - loss: 0.2814 - accuracy: 0.8982\n",
      "Epoch 3/5\n",
      "196/196 [==============================] - 30s 152ms/step - loss: 0.1330 - accuracy: 0.9610\n",
      "Epoch 4/5\n",
      "196/196 [==============================] - 30s 153ms/step - loss: 0.0630 - accuracy: 0.9826\n",
      "Epoch 5/5\n",
      "196/196 [==============================] - 30s 154ms/step - loss: 0.0381 - accuracy: 0.9904\n",
      "98/98 [==============================] - 4s 39ms/step - loss: 0.5486 - accuracy: 0.8600\n",
      "[CV 3/3] END dense_units=64, dropout_rate=0.5, embed_dim=64, lstm_units=128;, score=0.860 total time= 2.7min\n",
      "Epoch 1/5\n",
      "196/196 [==============================] - 20s 92ms/step - loss: 0.6245 - accuracy: 0.5983\n",
      "Epoch 2/5\n",
      "196/196 [==============================] - 20s 101ms/step - loss: 0.2741 - accuracy: 0.8922\n",
      "Epoch 3/5\n",
      "196/196 [==============================] - 20s 102ms/step - loss: 0.1231 - accuracy: 0.9582\n",
      "Epoch 4/5\n",
      "196/196 [==============================] - 19s 99ms/step - loss: 0.0560 - accuracy: 0.9842\n",
      "Epoch 5/5\n",
      "196/196 [==============================] - 19s 99ms/step - loss: 0.0364 - accuracy: 0.9904\n",
      "98/98 [==============================] - 4s 28ms/step - loss: 0.5685 - accuracy: 0.8637\n",
      "[CV 1/3] END dense_units=128, dropout_rate=0.2, embed_dim=32, lstm_units=64;, score=0.864 total time= 1.7min\n",
      "Epoch 1/5\n",
      "196/196 [==============================] - 21s 98ms/step - loss: 0.6002 - accuracy: 0.6288\n",
      "Epoch 2/5\n",
      "196/196 [==============================] - 19s 98ms/step - loss: 0.2653 - accuracy: 0.9008\n",
      "Epoch 3/5\n",
      "196/196 [==============================] - 23s 118ms/step - loss: 0.1137 - accuracy: 0.9630\n",
      "Epoch 4/5\n",
      "196/196 [==============================] - 20s 100ms/step - loss: 0.0539 - accuracy: 0.9850\n",
      "Epoch 5/5\n",
      "196/196 [==============================] - 20s 100ms/step - loss: 0.0328 - accuracy: 0.9906\n",
      "98/98 [==============================] - 4s 33ms/step - loss: 0.5363 - accuracy: 0.8507\n",
      "[CV 2/3] END dense_units=128, dropout_rate=0.2, embed_dim=32, lstm_units=64;, score=0.851 total time= 1.8min\n",
      "Epoch 1/5\n",
      "196/196 [==============================] - 21s 96ms/step - loss: 0.5197 - accuracy: 0.7034\n",
      "Epoch 2/5\n",
      "196/196 [==============================] - 19s 96ms/step - loss: 0.2162 - accuracy: 0.9187\n",
      "Epoch 3/5\n",
      "196/196 [==============================] - 20s 100ms/step - loss: 0.1006 - accuracy: 0.9683\n",
      "Epoch 4/5\n",
      "196/196 [==============================] - 20s 103ms/step - loss: 0.0526 - accuracy: 0.9839\n",
      "Epoch 5/5\n",
      "196/196 [==============================] - 18s 93ms/step - loss: 0.0331 - accuracy: 0.9903\n",
      "98/98 [==============================] - 4s 32ms/step - loss: 0.6397 - accuracy: 0.8555\n",
      "[CV 3/3] END dense_units=128, dropout_rate=0.2, embed_dim=32, lstm_units=64;, score=0.856 total time= 1.7min\n",
      "Epoch 1/5\n",
      "196/196 [==============================] - 24s 114ms/step - loss: 0.5894 - accuracy: 0.6327\n",
      "Epoch 2/5\n",
      "196/196 [==============================] - 25s 126ms/step - loss: 0.2557 - accuracy: 0.9025\n",
      "Epoch 3/5\n",
      "196/196 [==============================] - 22s 115ms/step - loss: 0.1184 - accuracy: 0.9614\n",
      "Epoch 4/5\n",
      "196/196 [==============================] - 22s 114ms/step - loss: 0.0567 - accuracy: 0.9837\n",
      "Epoch 5/5\n",
      "196/196 [==============================] - 22s 114ms/step - loss: 0.0361 - accuracy: 0.9897\n",
      "98/98 [==============================] - 4s 36ms/step - loss: 0.7771 - accuracy: 0.8529\n",
      "[CV 1/3] END dense_units=128, dropout_rate=0.2, embed_dim=32, lstm_units=128;, score=0.853 total time= 2.0min\n",
      "Epoch 1/5\n",
      "196/196 [==============================] - 24s 111ms/step - loss: 0.6509 - accuracy: 0.5758\n",
      "Epoch 2/5\n",
      "196/196 [==============================] - 24s 124ms/step - loss: 0.2903 - accuracy: 0.8885\n",
      "Epoch 3/5\n",
      "196/196 [==============================] - 23s 115ms/step - loss: 0.1351 - accuracy: 0.9576\n",
      "Epoch 4/5\n",
      "196/196 [==============================] - 21s 109ms/step - loss: 0.0775 - accuracy: 0.9782\n",
      "Epoch 5/5\n",
      "196/196 [==============================] - 22s 113ms/step - loss: 0.0405 - accuracy: 0.9896\n",
      "98/98 [==============================] - 5s 37ms/step - loss: 0.4870 - accuracy: 0.8593\n",
      "[CV 2/3] END dense_units=128, dropout_rate=0.2, embed_dim=32, lstm_units=128;, score=0.859 total time= 2.0min\n",
      "Epoch 1/5\n",
      "196/196 [==============================] - 26s 121ms/step - loss: 0.6810 - accuracy: 0.5492\n",
      "Epoch 2/5\n",
      "196/196 [==============================] - 22s 115ms/step - loss: 0.3262 - accuracy: 0.8704\n",
      "Epoch 3/5\n",
      "196/196 [==============================] - 23s 119ms/step - loss: 0.1418 - accuracy: 0.9545\n",
      "Epoch 4/5\n",
      "196/196 [==============================] - 25s 128ms/step - loss: 0.0669 - accuracy: 0.9808\n",
      "Epoch 5/5\n",
      "196/196 [==============================] - 26s 132ms/step - loss: 0.0407 - accuracy: 0.9895\n",
      "98/98 [==============================] - 4s 38ms/step - loss: 0.4971 - accuracy: 0.8634\n",
      "[CV 3/3] END dense_units=128, dropout_rate=0.2, embed_dim=32, lstm_units=128;, score=0.863 total time= 2.1min\n",
      "Epoch 1/5\n",
      "196/196 [==============================] - 30s 141ms/step - loss: 0.5631 - accuracy: 0.6620\n",
      "Epoch 2/5\n",
      "196/196 [==============================] - 26s 133ms/step - loss: 0.2387 - accuracy: 0.9094\n",
      "Epoch 3/5\n",
      "196/196 [==============================] - 25s 128ms/step - loss: 0.0989 - accuracy: 0.9686\n",
      "Epoch 4/5\n",
      "196/196 [==============================] - 25s 126ms/step - loss: 0.0541 - accuracy: 0.9836\n",
      "Epoch 5/5\n",
      "196/196 [==============================] - 24s 124ms/step - loss: 0.0339 - accuracy: 0.9902\n",
      "98/98 [==============================] - 2s 21ms/step - loss: 0.5999 - accuracy: 0.8570\n",
      "[CV 1/3] END dense_units=128, dropout_rate=0.2, embed_dim=64, lstm_units=64;, score=0.857 total time= 2.2min\n",
      "Epoch 1/5\n",
      "196/196 [==============================] - 28s 132ms/step - loss: 0.5942 - accuracy: 0.6295\n",
      "Epoch 2/5\n",
      "196/196 [==============================] - 25s 126ms/step - loss: 0.2469 - accuracy: 0.9050\n",
      "Epoch 3/5\n",
      "196/196 [==============================] - 25s 126ms/step - loss: 0.1177 - accuracy: 0.9642\n",
      "Epoch 4/5\n",
      "196/196 [==============================] - 25s 126ms/step - loss: 0.0552 - accuracy: 0.9850\n",
      "Epoch 5/5\n",
      "196/196 [==============================] - 25s 125ms/step - loss: 0.0410 - accuracy: 0.9895\n",
      "98/98 [==============================] - 3s 24ms/step - loss: 0.4182 - accuracy: 0.8554\n",
      "[CV 2/3] END dense_units=128, dropout_rate=0.2, embed_dim=64, lstm_units=64;, score=0.855 total time= 2.2min\n",
      "Epoch 1/5\n",
      "196/196 [==============================] - 26s 124ms/step - loss: 0.5580 - accuracy: 0.6814\n",
      "Epoch 2/5\n",
      "196/196 [==============================] - 24s 124ms/step - loss: 0.2405 - accuracy: 0.9120\n",
      "Epoch 3/5\n",
      "196/196 [==============================] - 24s 125ms/step - loss: 0.1015 - accuracy: 0.9684\n",
      "Epoch 4/5\n",
      "196/196 [==============================] - 24s 124ms/step - loss: 0.0562 - accuracy: 0.9835\n",
      "Epoch 5/5\n",
      "196/196 [==============================] - 24s 124ms/step - loss: 0.0355 - accuracy: 0.9902\n",
      "98/98 [==============================] - 3s 24ms/step - loss: 0.5007 - accuracy: 0.8458\n",
      "[CV 3/3] END dense_units=128, dropout_rate=0.2, embed_dim=64, lstm_units=64;, score=0.846 total time= 2.1min\n",
      "Epoch 1/5\n",
      "196/196 [==============================] - 31s 151ms/step - loss: 0.5752 - accuracy: 0.6722\n",
      "Epoch 2/5\n",
      "196/196 [==============================] - 30s 152ms/step - loss: 0.2661 - accuracy: 0.9014\n",
      "Epoch 3/5\n",
      "196/196 [==============================] - 30s 151ms/step - loss: 0.1171 - accuracy: 0.9632\n",
      "Epoch 4/5\n",
      "196/196 [==============================] - 30s 151ms/step - loss: 0.0639 - accuracy: 0.9824\n",
      "Epoch 5/5\n",
      "196/196 [==============================] - 30s 152ms/step - loss: 0.0390 - accuracy: 0.9899\n",
      "98/98 [==============================] - 4s 35ms/step - loss: 0.6449 - accuracy: 0.8535\n",
      "[CV 1/3] END dense_units=128, dropout_rate=0.2, embed_dim=64, lstm_units=128;, score=0.854 total time= 2.6min\n",
      "Epoch 1/5\n",
      "196/196 [==============================] - 31s 152ms/step - loss: 0.5376 - accuracy: 0.6926\n",
      "Epoch 2/5\n",
      "196/196 [==============================] - 30s 152ms/step - loss: 0.2287 - accuracy: 0.9198\n",
      "Epoch 3/5\n",
      "196/196 [==============================] - 30s 152ms/step - loss: 0.1064 - accuracy: 0.9677\n",
      "Epoch 4/5\n",
      "196/196 [==============================] - 30s 152ms/step - loss: 0.0608 - accuracy: 0.9824\n",
      "Epoch 5/5\n",
      "196/196 [==============================] - 30s 152ms/step - loss: 0.0315 - accuracy: 0.9910\n",
      "98/98 [==============================] - 4s 36ms/step - loss: 0.4569 - accuracy: 0.8505\n",
      "[CV 2/3] END dense_units=128, dropout_rate=0.2, embed_dim=64, lstm_units=128;, score=0.850 total time= 2.6min\n",
      "Epoch 1/5\n",
      "196/196 [==============================] - 32s 154ms/step - loss: 0.5235 - accuracy: 0.7195\n",
      "Epoch 2/5\n",
      "196/196 [==============================] - 30s 154ms/step - loss: 0.2299 - accuracy: 0.9176\n",
      "Epoch 3/5\n",
      "196/196 [==============================] - 30s 154ms/step - loss: 0.1063 - accuracy: 0.9688\n",
      "Epoch 4/5\n",
      "196/196 [==============================] - 30s 153ms/step - loss: 0.0532 - accuracy: 0.9853\n",
      "Epoch 5/5\n",
      "196/196 [==============================] - 30s 152ms/step - loss: 0.0309 - accuracy: 0.9921\n",
      "98/98 [==============================] - 4s 36ms/step - loss: 0.6942 - accuracy: 0.8530\n",
      "[CV 3/3] END dense_units=128, dropout_rate=0.2, embed_dim=64, lstm_units=128;, score=0.853 total time= 2.6min\n",
      "Epoch 1/5\n",
      "196/196 [==============================] - 18s 84ms/step - loss: 0.6825 - accuracy: 0.5301\n",
      "Epoch 2/5\n",
      "196/196 [==============================] - 17s 85ms/step - loss: 0.6650 - accuracy: 0.5590\n",
      "Epoch 3/5\n",
      "196/196 [==============================] - 17s 85ms/step - loss: 0.6563 - accuracy: 0.6100\n",
      "Epoch 4/5\n",
      "196/196 [==============================] - 17s 85ms/step - loss: 0.4276 - accuracy: 0.8241\n",
      "Epoch 5/5\n",
      "196/196 [==============================] - 17s 86ms/step - loss: 0.2180 - accuracy: 0.9221\n",
      "98/98 [==============================] - 3s 24ms/step - loss: 0.3607 - accuracy: 0.8687\n",
      "[CV 1/3] END dense_units=128, dropout_rate=0.5, embed_dim=32, lstm_units=64;, score=0.869 total time= 1.5min\n",
      "Epoch 1/5\n",
      "196/196 [==============================] - 18s 85ms/step - loss: 0.5970 - accuracy: 0.6316\n",
      "Epoch 2/5\n",
      "196/196 [==============================] - 17s 86ms/step - loss: 0.2594 - accuracy: 0.9038\n",
      "Epoch 3/5\n",
      "196/196 [==============================] - 17s 87ms/step - loss: 0.1087 - accuracy: 0.9658\n",
      "Epoch 4/5\n",
      "196/196 [==============================] - 17s 86ms/step - loss: 0.0486 - accuracy: 0.9860\n",
      "Epoch 5/5\n",
      "196/196 [==============================] - 17s 86ms/step - loss: 0.0310 - accuracy: 0.9914\n",
      "98/98 [==============================] - 3s 23ms/step - loss: 0.5757 - accuracy: 0.8570\n",
      "[CV 2/3] END dense_units=128, dropout_rate=0.5, embed_dim=32, lstm_units=64;, score=0.857 total time= 1.5min\n",
      "Epoch 1/5\n",
      "196/196 [==============================] - 19s 86ms/step - loss: 0.6415 - accuracy: 0.5932\n",
      "Epoch 2/5\n",
      "196/196 [==============================] - 17s 86ms/step - loss: 0.2908 - accuracy: 0.8892\n",
      "Epoch 3/5\n",
      "196/196 [==============================] - 17s 86ms/step - loss: 0.1311 - accuracy: 0.9596\n",
      "Epoch 4/5\n",
      "196/196 [==============================] - 17s 85ms/step - loss: 0.0638 - accuracy: 0.9824\n",
      "Epoch 5/5\n",
      "196/196 [==============================] - 17s 86ms/step - loss: 0.0448 - accuracy: 0.9890\n",
      "98/98 [==============================] - 3s 23ms/step - loss: 0.5434 - accuracy: 0.8552\n",
      "[CV 3/3] END dense_units=128, dropout_rate=0.5, embed_dim=32, lstm_units=64;, score=0.855 total time= 1.5min\n",
      "Epoch 1/5\n",
      "196/196 [==============================] - 24s 112ms/step - loss: 0.6939 - accuracy: 0.5117\n",
      "Epoch 2/5\n",
      "196/196 [==============================] - 22s 113ms/step - loss: 0.4909 - accuracy: 0.7562\n",
      "Epoch 3/5\n",
      "196/196 [==============================] - 22s 113ms/step - loss: 0.2155 - accuracy: 0.9255\n",
      "Epoch 4/5\n",
      "196/196 [==============================] - 22s 113ms/step - loss: 0.1082 - accuracy: 0.9688\n",
      "Epoch 5/5\n",
      "196/196 [==============================] - 22s 113ms/step - loss: 0.0605 - accuracy: 0.9839\n",
      "98/98 [==============================] - 4s 35ms/step - loss: 0.4315 - accuracy: 0.8628\n",
      "[CV 1/3] END dense_units=128, dropout_rate=0.5, embed_dim=32, lstm_units=128;, score=0.863 total time= 2.0min\n",
      "Epoch 1/5\n",
      "196/196 [==============================] - 24s 112ms/step - loss: 0.6205 - accuracy: 0.6123\n",
      "Epoch 2/5\n",
      "196/196 [==============================] - 22s 113ms/step - loss: 0.2792 - accuracy: 0.8941\n",
      "Epoch 3/5\n",
      "196/196 [==============================] - 22s 113ms/step - loss: 0.1272 - accuracy: 0.9592\n",
      "Epoch 4/5\n",
      "196/196 [==============================] - 22s 113ms/step - loss: 0.0632 - accuracy: 0.9822\n",
      "Epoch 5/5\n",
      "196/196 [==============================] - 22s 113ms/step - loss: 0.0376 - accuracy: 0.9894\n",
      "98/98 [==============================] - 4s 35ms/step - loss: 0.6738 - accuracy: 0.8550\n",
      "[CV 2/3] END dense_units=128, dropout_rate=0.5, embed_dim=32, lstm_units=128;, score=0.855 total time= 1.9min\n",
      "Epoch 1/5\n",
      "196/196 [==============================] - 24s 112ms/step - loss: 0.6149 - accuracy: 0.6204\n",
      "Epoch 2/5\n",
      "196/196 [==============================] - 22s 113ms/step - loss: 0.2769 - accuracy: 0.8956\n",
      "Epoch 3/5\n",
      "196/196 [==============================] - 22s 113ms/step - loss: 0.1252 - accuracy: 0.9605\n",
      "Epoch 4/5\n",
      "196/196 [==============================] - 22s 113ms/step - loss: 0.0669 - accuracy: 0.9810\n",
      "Epoch 5/5\n",
      "196/196 [==============================] - 22s 113ms/step - loss: 0.0436 - accuracy: 0.9883\n",
      "98/98 [==============================] - 4s 34ms/step - loss: 0.5954 - accuracy: 0.8590\n",
      "[CV 3/3] END dense_units=128, dropout_rate=0.5, embed_dim=32, lstm_units=128;, score=0.859 total time= 1.9min\n",
      "Epoch 1/5\n",
      "196/196 [==============================] - 26s 124ms/step - loss: 0.6630 - accuracy: 0.5701\n",
      "Epoch 2/5\n",
      "196/196 [==============================] - 24s 124ms/step - loss: 0.3108 - accuracy: 0.8784\n",
      "Epoch 3/5\n",
      "196/196 [==============================] - 24s 124ms/step - loss: 0.1349 - accuracy: 0.9568\n",
      "Epoch 4/5\n",
      "196/196 [==============================] - 24s 124ms/step - loss: 0.0667 - accuracy: 0.9822\n",
      "Epoch 5/5\n",
      "196/196 [==============================] - 24s 124ms/step - loss: 0.0381 - accuracy: 0.9904\n",
      "98/98 [==============================] - 3s 23ms/step - loss: 0.4920 - accuracy: 0.8622\n",
      "[CV 1/3] END dense_units=128, dropout_rate=0.5, embed_dim=64, lstm_units=64;, score=0.862 total time= 2.1min\n",
      "Epoch 1/5\n",
      "196/196 [==============================] - 26s 125ms/step - loss: 0.5799 - accuracy: 0.6538\n",
      "Epoch 2/5\n",
      "196/196 [==============================] - 24s 125ms/step - loss: 0.2448 - accuracy: 0.9080\n",
      "Epoch 3/5\n",
      "196/196 [==============================] - 25s 125ms/step - loss: 0.1054 - accuracy: 0.9665\n",
      "Epoch 4/5\n",
      "196/196 [==============================] - 25s 125ms/step - loss: 0.0509 - accuracy: 0.9862\n",
      "Epoch 5/5\n",
      "196/196 [==============================] - 25s 125ms/step - loss: 0.0324 - accuracy: 0.9914\n",
      "98/98 [==============================] - 3s 25ms/step - loss: 0.5674 - accuracy: 0.8568\n",
      "[CV 2/3] END dense_units=128, dropout_rate=0.5, embed_dim=64, lstm_units=64;, score=0.857 total time= 2.1min\n",
      "Epoch 1/5\n",
      "196/196 [==============================] - 26s 124ms/step - loss: 0.5692 - accuracy: 0.6556\n",
      "Epoch 2/5\n",
      "196/196 [==============================] - 24s 125ms/step - loss: 0.2543 - accuracy: 0.9050\n",
      "Epoch 3/5\n",
      "196/196 [==============================] - 24s 124ms/step - loss: 0.1120 - accuracy: 0.9657\n",
      "Epoch 4/5\n",
      "196/196 [==============================] - 24s 125ms/step - loss: 0.0569 - accuracy: 0.9839\n",
      "Epoch 5/5\n",
      "196/196 [==============================] - 24s 124ms/step - loss: 0.0401 - accuracy: 0.9887\n",
      "98/98 [==============================] - 3s 24ms/step - loss: 0.4785 - accuracy: 0.8603\n",
      "[CV 3/3] END dense_units=128, dropout_rate=0.5, embed_dim=64, lstm_units=64;, score=0.860 total time= 2.1min\n",
      "Epoch 1/5\n",
      "196/196 [==============================] - 31s 151ms/step - loss: 0.6733 - accuracy: 0.5625\n",
      "Epoch 2/5\n",
      "196/196 [==============================] - 30s 151ms/step - loss: 0.5793 - accuracy: 0.7246\n",
      "Epoch 3/5\n",
      "196/196 [==============================] - 30s 152ms/step - loss: 0.4600 - accuracy: 0.8210\n",
      "Epoch 4/5\n",
      "196/196 [==============================] - 30s 151ms/step - loss: 0.4188 - accuracy: 0.8424\n",
      "Epoch 5/5\n",
      "196/196 [==============================] - 30s 152ms/step - loss: 0.4388 - accuracy: 0.8196\n",
      "98/98 [==============================] - 4s 36ms/step - loss: 0.6072 - accuracy: 0.6697\n",
      "[CV 1/3] END dense_units=128, dropout_rate=0.5, embed_dim=64, lstm_units=128;, score=0.670 total time= 2.6min\n",
      "Epoch 1/5\n",
      "196/196 [==============================] - 32s 155ms/step - loss: 0.6856 - accuracy: 0.5350\n",
      "Epoch 2/5\n",
      "196/196 [==============================] - 30s 152ms/step - loss: 0.4210 - accuracy: 0.8046\n",
      "Epoch 3/5\n",
      "196/196 [==============================] - 30s 152ms/step - loss: 0.1829 - accuracy: 0.9392\n",
      "Epoch 4/5\n",
      "196/196 [==============================] - 30s 152ms/step - loss: 0.0862 - accuracy: 0.9736\n",
      "Epoch 5/5\n",
      "196/196 [==============================] - 30s 152ms/step - loss: 0.0433 - accuracy: 0.9896\n",
      "98/98 [==============================] - 4s 35ms/step - loss: 0.4097 - accuracy: 0.8546\n",
      "[CV 2/3] END dense_units=128, dropout_rate=0.5, embed_dim=64, lstm_units=128;, score=0.855 total time= 2.6min\n",
      "Epoch 1/5\n",
      "196/196 [==============================] - 31s 152ms/step - loss: 0.6927 - accuracy: 0.5200\n",
      "Epoch 2/5\n",
      "196/196 [==============================] - 30s 152ms/step - loss: 0.4867 - accuracy: 0.7965\n",
      "Epoch 3/5\n",
      "196/196 [==============================] - 30s 152ms/step - loss: 0.2741 - accuracy: 0.9003\n",
      "Epoch 4/5\n",
      "196/196 [==============================] - 30s 152ms/step - loss: 0.1408 - accuracy: 0.9564\n",
      "Epoch 5/5\n",
      "196/196 [==============================] - 30s 152ms/step - loss: 0.0716 - accuracy: 0.9816\n",
      "98/98 [==============================] - 4s 36ms/step - loss: 0.6007 - accuracy: 0.8594\n",
      "[CV 3/3] END dense_units=128, dropout_rate=0.5, embed_dim=64, lstm_units=128;, score=0.859 total time= 2.6min\n",
      "Epoch 1/5\n",
      "293/293 [==============================] - 27s 86ms/step - loss: 0.5455 - accuracy: 0.6778\n",
      "Epoch 2/5\n",
      "293/293 [==============================] - 25s 86ms/step - loss: 0.2346 - accuracy: 0.9144\n",
      "Epoch 3/5\n",
      "293/293 [==============================] - 25s 86ms/step - loss: 0.1174 - accuracy: 0.9617\n",
      "Epoch 4/5\n",
      "293/293 [==============================] - 25s 86ms/step - loss: 0.0615 - accuracy: 0.9811\n",
      "Epoch 5/5\n",
      "293/293 [==============================] - 25s 86ms/step - loss: 0.0456 - accuracy: 0.9867\n"
     ]
    }
   ],
   "source": [
    "LSTM_NN_model = KerasClassifier(build_fn=create_LSTM_model, epochs=5, batch_size=128)\n",
    "# Define the hyperparameter grid\n",
    "param_grid = {\n",
    "    'embed_dim': [32, 64],\n",
    "    'lstm_units': [64, 128],\n",
    "    'dense_units': [64, 128],\n",
    "    'dropout_rate': [0.2, 0.5]\n",
    "}\n",
    "# Perform Grid Search\n",
    "grid = GridSearchCV(estimator=LSTM_NN_model, param_grid=param_grid, cv=3, verbose=5)\n",
    "grid_result = grid.fit(train_padded_sequences, y_train)"
   ],
   "metadata": {
    "collapsed": false
   }
  },
  {
   "cell_type": "markdown",
   "source": [
    "#### Add to Excel file"
   ],
   "metadata": {
    "collapsed": false
   }
  },
  {
   "cell_type": "code",
   "execution_count": 59,
   "outputs": [],
   "source": [
    "results = pd.DataFrame(grid_result.cv_results_)\n",
    "results.to_csv('LSTM_NN_model.csv', index=False)"
   ],
   "metadata": {
    "collapsed": false,
    "ExecuteTime": {
     "start_time": "2023-08-27T22:38:29.112252Z",
     "end_time": "2023-08-27T22:38:29.190766Z"
    }
   }
  },
  {
   "cell_type": "markdown",
   "source": [
    "### Evaluation"
   ],
   "metadata": {
    "collapsed": false
   }
  },
  {
   "cell_type": "markdown",
   "source": [
    "#### Train with best parameters"
   ],
   "metadata": {
    "collapsed": false
   }
  },
  {
   "cell_type": "code",
   "execution_count": 25,
   "outputs": [
    {
     "name": "stdout",
     "output_type": "stream",
     "text": [
      "Epoch 1/5\n",
      "293/293 [==============================] - 32s 100ms/step - loss: 0.5228 - accuracy: 0.6997\n",
      "Epoch 2/5\n",
      "293/293 [==============================] - 29s 100ms/step - loss: 0.2270 - accuracy: 0.9165\n",
      "Epoch 3/5\n",
      "293/293 [==============================] - 28s 95ms/step - loss: 0.1119 - accuracy: 0.9645\n",
      "Epoch 4/5\n",
      "293/293 [==============================] - 28s 95ms/step - loss: 0.0612 - accuracy: 0.9821\n",
      "Epoch 5/5\n",
      "293/293 [==============================] - 28s 97ms/step - loss: 0.0443 - accuracy: 0.9872\n",
      "1172/1172 [==============================] - 18s 14ms/step\n",
      "391/391 [==============================] - 6s 14ms/step\n",
      "Train precision: 0.9979572089022686\n",
      "Train recall: 0.9854026222198631\n",
      "Train F1-score: 0.9916401805507332\n",
      "Train Accuracy: 0.9916533333333334\n",
      "Test precision: 0.8780695770804912\n",
      "Test recall: 0.8357409511442948\n",
      "Test F1-score: 0.8563825363825365\n",
      "Test accuracy: 0.86184\n"
     ]
    },
    {
     "data": {
      "text/plain": "<matplotlib.legend.Legend at 0x27b9a55eda0>"
     },
     "execution_count": 25,
     "metadata": {},
     "output_type": "execute_result"
    },
    {
     "data": {
      "text/plain": "<Figure size 640x480 with 1 Axes>",
      "image/png": "[encoded data removed]"
     },
     "metadata": {},
     "output_type": "display_data"
    }
   ],
   "source": [
    "LSTM_NN_model = create_LSTM_model(32,64,64,0.5)\n",
    "# early_stopping = EarlyStopping(patience=3, monitor='val_loss', restore_best_weights=True)\n",
    "LSTM_NN_model.fit(train_padded_sequences, y_train, epochs=5, batch_size=128)\n",
    "\n",
    "# Evaluate the model on the train set\n",
    "train_predictions = LSTM_NN_model.predict(train_padded_sequences)\n",
    "train_predictions = np.round(train_predictions).astype(int)\n",
    "\n",
    "# Evaluate the model on the test set\n",
    "test_predictions = LSTM_NN_model.predict(test_padded_sequences)\n",
    "test_predictions = np.round(test_predictions).astype(int)\n",
    "\n",
    "train_precision = precision_score(y_train, train_predictions)\n",
    "print(\"Train precision:\", train_precision)\n",
    "\n",
    "# Calculate recall\n",
    "train_recall = recall_score(y_train, train_predictions)\n",
    "print(\"Train recall:\", train_recall)\n",
    "\n",
    "# Calculate F1-score\n",
    "train_f1 = f1_score(y_train, train_predictions)\n",
    "print(\"Train F1-score:\", train_f1)\n",
    "\n",
    "LSTM_NN_train_accuracy = accuracy_score(y_train, train_predictions)\n",
    "print(\"Train Accuracy:\", LSTM_NN_train_accuracy)\n",
    "\n",
    "\n",
    "test_precision = precision_score(y_test, test_predictions)\n",
    "print(\"Test precision:\", test_precision)\n",
    "\n",
    "# Calculate recall\n",
    "test_recall = recall_score(y_test, test_predictions)\n",
    "print(\"Test recall:\", test_recall)\n",
    "\n",
    "# Calculate F1-score\n",
    "test_f1 = f1_score(y_test, test_predictions)\n",
    "print(\"Test F1-score:\", test_f1)\n",
    "\n",
    "LSTM_NN_test_accuracy = accuracy_score(y_test, test_predictions)\n",
    "print(\"Test accuracy:\", LSTM_NN_test_accuracy)\n",
    "# print(LSTM_NN_model.summary())\n",
    "\n",
    "# Metrics for train and test sets\n",
    "metrics = ['Precision', 'Recall', 'F1-Score', 'Accuracy']\n",
    "train_values = [train_precision, train_recall, train_f1, LSTM_NN_train_accuracy]\n",
    "test_values = [test_precision, test_recall, test_f1, LSTM_NN_test_accuracy]\n",
    "\n",
    "x = np.arange(len(metrics))\n",
    "width = 0.35\n",
    "\n",
    "fig, ax = plt.subplots()\n",
    "rects1 = ax.bar(x - width/2, train_values, width, label='Train')\n",
    "rects2 = ax.bar(x + width/2, test_values, width, label='Test')\n",
    "\n",
    "ax.set_ylabel('Scores')\n",
    "ax.set_title('Performance Metrics of LSTM Model')\n",
    "ax.set_xticks(x)\n",
    "ax.set_xticklabels(metrics)\n",
    "ax.legend()"
   ],
   "metadata": {
    "collapsed": false,
    "ExecuteTime": {
     "start_time": "2023-08-28T19:47:00.784498Z",
     "end_time": "2023-08-28T19:49:50.024601Z"
    }
   }
  },
  {
   "cell_type": "markdown",
   "source": [
    "## Naive Bayes"
   ],
   "metadata": {
    "collapsed": false
   }
  },
  {
   "cell_type": "markdown",
   "source": [
    "### Data Splitting"
   ],
   "metadata": {
    "collapsed": false
   }
  },
  {
   "cell_type": "code",
   "execution_count": 26,
   "outputs": [],
   "source": [
    "x_data = review_df['review']\n",
    "x_data = x_data.apply(lambda review: preprocess_corpus(review, 0))\n",
    "\n",
    "x_train, x_test, y_train, y_test = train_test_split(x_data, y_data, test_size = 0.25)"
   ],
   "metadata": {
    "collapsed": false,
    "ExecuteTime": {
     "start_time": "2023-08-28T19:49:50.024601Z",
     "end_time": "2023-08-28T19:50:02.197324Z"
    }
   }
  },
  {
   "cell_type": "markdown",
   "source": [
    "### Count Vectorization"
   ],
   "metadata": {
    "collapsed": false
   }
  },
  {
   "cell_type": "code",
   "execution_count": 27,
   "outputs": [],
   "source": [
    "# Initialize the CountVectorizer\n",
    "vectorizer = CountVectorizer()\n",
    "x_train_count = vectorizer.fit_transform(x_train)\n",
    "x_test_count = vectorizer.transform(x_test)"
   ],
   "metadata": {
    "collapsed": false,
    "ExecuteTime": {
     "start_time": "2023-08-28T19:50:02.200844Z",
     "end_time": "2023-08-28T19:50:06.124920Z"
    }
   }
  },
  {
   "cell_type": "markdown",
   "source": [
    "### Training model"
   ],
   "metadata": {
    "collapsed": false
   }
  },
  {
   "cell_type": "code",
   "execution_count": null,
   "outputs": [],
   "source": [
    "# Initialize the Multinomial Naive Bayes model\n",
    "NB_model = MultinomialNB()\n",
    "NB_model.fit(x_train_count, y_train)"
   ],
   "metadata": {
    "collapsed": false,
    "ExecuteTime": {
     "start_time": "2023-08-28T19:50:06.127131Z",
     "end_time": "2023-08-28T19:50:06.170879Z"
    }
   }
  },
  {
   "cell_type": "markdown",
   "source": [
    "### Evaluation"
   ],
   "metadata": {
    "collapsed": false
   }
  },
  {
   "cell_type": "code",
   "execution_count": 36,
   "outputs": [
    {
     "name": "stdout",
     "output_type": "stream",
     "text": [
      "Training Accuracy: 0.50296\n",
      "Training Confusion Matrix:\n",
      " [[9925 8883]\n",
      " [9756 8936]]\n",
      "\n",
      "Test Accuracy: 0.50368\n",
      "Test Confusion Matrix:\n",
      " [[3260 2932]\n",
      " [3272 3036]]\n"
     ]
    },
    {
     "data": {
      "text/plain": "<Figure size 1200x600 with 2 Axes>",
      "image/png": "[encoded data removed]"
     },
     "metadata": {},
     "output_type": "display_data"
    }
   ],
   "source": [
    "train_predictions = NB_model.predict(x_train_count)\n",
    "NB_train_accuracy = accuracy_score(y_train, train_predictions)\n",
    "print(\"Training Accuracy:\", NB_train_accuracy)\n",
    "train_confusion_matrix = confusion_matrix(y_train, train_predictions)\n",
    "print(\"Training Confusion Matrix:\\n\", train_confusion_matrix)\n",
    "\n",
    "test_predictions = NB_model.predict(x_test_count)\n",
    "NB_test_accuracy = accuracy_score(y_test, test_predictions)\n",
    "print(\"\\nTest Accuracy:\", NB_test_accuracy)\n",
    "test_confusion_matrix = confusion_matrix(y_test, test_predictions)\n",
    "print(\"Test Confusion Matrix:\\n\", test_confusion_matrix)\n",
    "\n",
    "# Plot the confusion matrices\n",
    "fig, axes = plt.subplots(1, 2, figsize=(12, 6))\n",
    "\n",
    "sns.heatmap(train_confusion_matrix, annot=True, fmt=\"d\", cmap=\"Blues\", cbar=False,\n",
    "            ax=axes[0], annot_kws={\"size\": 16})\n",
    "axes[0].set_title(\"Training Confusion Matrix\")\n",
    "axes[0].set_xlabel(\"Predicted Labels\")\n",
    "axes[0].set_ylabel(\"Actual Labels\")\n",
    "\n",
    "sns.heatmap(test_confusion_matrix, annot=True, fmt=\"d\", cmap=\"Blues\", cbar=False,\n",
    "            ax=axes[1], annot_kws={\"size\": 16})\n",
    "axes[1].set_title(\"Test Confusion Matrix\")\n",
    "axes[1].set_xlabel(\"Predicted Labels\")\n",
    "axes[1].set_ylabel(\"Actual Labels\")\n",
    "\n",
    "plt.tight_layout()\n",
    "plt.show()"
   ],
   "metadata": {
    "collapsed": false,
    "ExecuteTime": {
     "start_time": "2023-08-28T20:19:46.299807Z",
     "end_time": "2023-08-28T20:19:46.597994Z"
    }
   }
  },
  {
   "cell_type": "markdown",
   "source": [
    "## Clustering"
   ],
   "metadata": {
    "collapsed": false
   }
  },
  {
   "cell_type": "markdown",
   "source": [
    "### Data Splitting for Model Training"
   ],
   "metadata": {
    "collapsed": false
   }
  },
  {
   "cell_type": "code",
   "execution_count": 32,
   "outputs": [],
   "source": [
    "x_data = review_df['review']\n",
    "x_data = x_data.apply(lambda review: preprocess_corpus(review, 0))\n",
    "\n",
    "x_train, x_test, y_train, y_test = train_test_split(x_data, y_data, test_size = 0.25)"
   ],
   "metadata": {
    "collapsed": false,
    "ExecuteTime": {
     "start_time": "2023-08-28T19:55:33.673009Z",
     "end_time": "2023-08-28T19:55:45.908590Z"
    }
   }
  },
  {
   "cell_type": "markdown",
   "source": [
    "### TF-IDF Vectorization"
   ],
   "metadata": {
    "collapsed": false
   }
  },
  {
   "cell_type": "code",
   "execution_count": 33,
   "outputs": [],
   "source": [
    "# Initialize TfidfVectorization\n",
    "vectorized = TfidfVectorizer(max_features=10000)\n",
    "train_vectors = vectorized.fit_transform(x_data)\n",
    "test_vectors = vectorized.transform(x_test)"
   ],
   "metadata": {
    "collapsed": false,
    "ExecuteTime": {
     "start_time": "2023-08-28T19:55:45.909592Z",
     "end_time": "2023-08-28T19:55:51.370554Z"
    }
   }
  },
  {
   "cell_type": "markdown",
   "source": [
    "### K-means"
   ],
   "metadata": {
    "collapsed": false
   }
  },
  {
   "cell_type": "code",
   "execution_count": 39,
   "outputs": [
    {
     "name": "stderr",
     "output_type": "stream",
     "text": [
      "D:\\Anaconda\\lib\\site-packages\\sklearn\\cluster\\_kmeans.py:870: FutureWarning: The default value of `n_init` will change from 10 to 'auto' in 1.4. Set the value of `n_init` explicitly to suppress the warning\n",
      "  warnings.warn(\n"
     ]
    }
   ],
   "source": [
    "num_clusters = 5  # You can adjust the number of clusters as needed\n",
    "kmeans = KMeans(n_clusters=num_clusters, random_state=42)\n",
    "clusters = kmeans.fit_predict(train_vectors)"
   ],
   "metadata": {
    "collapsed": false,
    "ExecuteTime": {
     "start_time": "2023-08-28T20:20:51.077355Z",
     "end_time": "2023-08-28T20:21:01.030661Z"
    }
   }
  },
  {
   "cell_type": "code",
   "execution_count": 40,
   "outputs": [
    {
     "name": "stdout",
     "output_type": "stream",
     "text": [
      "   Cluster  Label  Count\n",
      "0        0      0   4104\n",
      "1        0      1   5387\n",
      "2        1      0   4338\n",
      "3        1      1   4217\n",
      "4        2      0    999\n",
      "5        2      1   1502\n",
      "6        3      0   8233\n",
      "7        3      1  12636\n",
      "8        4      0   7326\n",
      "9        4      1   1258\n"
     ]
    }
   ],
   "source": [
    "# Create a DataFrame to store reviews and their corresponding labels and clusters\n",
    "review_labels_clusters_df = pd.DataFrame({'Review': x_data, 'Label': y_data, 'Cluster': clusters})\n",
    "\n",
    "# Analyze whether reviews in the same cluster tend to have similar labels\n",
    "cluster_label_analysis = review_labels_clusters_df.groupby(['Cluster', 'Label']).size().reset_index(name='Count')\n",
    "print(cluster_label_analysis)"
   ],
   "metadata": {
    "collapsed": false,
    "ExecuteTime": {
     "start_time": "2023-08-28T20:21:01.032661Z",
     "end_time": "2023-08-28T20:21:01.105791Z"
    }
   }
  },
  {
   "cell_type": "markdown",
   "source": [
    "### Clustering chart"
   ],
   "metadata": {
    "collapsed": false
   }
  },
  {
   "cell_type": "code",
   "execution_count": 41,
   "outputs": [
    {
     "data": {
      "text/plain": "<Figure size 640x480 with 1 Axes>",
      "image/png": "[encoded data removed]"
     },
     "metadata": {},
     "output_type": "display_data"
    }
   ],
   "source": [
    "pivot_df = cluster_label_analysis.pivot(index='Cluster', columns='Label', values='Count')\n",
    "pivot_df.fillna(0, inplace=True)\n",
    "\n",
    "pivot_df.plot(kind='bar', stacked=True)\n",
    "plt.title('Cluster-Label Distribution')\n",
    "plt.xlabel('Cluster')\n",
    "plt.ylabel('Count')\n",
    "plt.xticks(rotation=0)\n",
    "plt.legend(title='Label')\n",
    "plt.show()"
   ],
   "metadata": {
    "collapsed": false,
    "ExecuteTime": {
     "start_time": "2023-08-28T20:21:01.063699Z",
     "end_time": "2023-08-28T20:21:01.293439Z"
    }
   }
  },
  {
   "cell_type": "code",
   "execution_count": 34,
   "outputs": [
    {
     "data": {
      "text/plain": "<Figure size 1000x600 with 1 Axes>",
      "image/png": "[encoded data removed]"
     },
     "metadata": {},
     "output_type": "display_data"
    }
   ],
   "source": [
    "model_names = ['Naive Bayes', 'Logistic Regression', 'LSTM-NN']\n",
    "\n",
    "# Accuracy values for training and test sets\n",
    "train_accuracies = [NB_train_accuracy, LR_train_accuracy, LSTM_NN_train_accuracy]\n",
    "test_accuracies = [NB_test_accuracy, LR_test_accuracy, LSTM_NN_test_accuracy]\n",
    "\n",
    "# Plotting the bar chart\n",
    "plt.figure(figsize=(10, 6))\n",
    "plt.bar(model_names, train_accuracies, width=0.4, label='Train Accuracy')\n",
    "plt.bar(model_names, test_accuracies, width=0.4, align='edge', label='Test Accuracy')\n",
    "\n",
    "plt.xlabel('Models')\n",
    "plt.ylabel('Accuracy')\n",
    "plt.title('Model Performance Comparison')\n",
    "plt.legend()\n",
    "plt.ylim(0, 1)\n",
    "\n",
    "plt.show()"
   ],
   "metadata": {
    "collapsed": false,
    "ExecuteTime": {
     "start_time": "2023-08-28T20:13:56.126948Z",
     "end_time": "2023-08-28T20:13:56.308486Z"
    }
   }
  }
 ],
 "metadata": {
  "kernelspec": {
   "display_name": "Python 3",
   "language": "python",
   "name": "python3"
  },
  "language_info": {
   "codemirror_mode": {
    "name": "ipython",
    "version": 2
   },
   "file_extension": ".py",
   "mimetype": "text/x-python",
   "name": "python",
   "nbconvert_exporter": "python",
   "pygments_lexer": "ipython2",
   "version": "2.7.6"
  }
 },
 "nbformat": 4,
 "nbformat_minor": 0
}
